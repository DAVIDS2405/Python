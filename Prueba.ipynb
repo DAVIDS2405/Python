{
 "cells": [
  {
   "cell_type": "code",
   "execution_count": 1,
   "metadata": {},
   "outputs": [],
   "source": [
    "import speech_recognition as sr\n",
    "import os\n",
    "import sys\n",
    "import time\n",
    "from datetime import date\n",
    "import re\n"
   ]
  },
  {
   "cell_type": "code",
   "execution_count": 2,
   "metadata": {},
   "outputs": [],
   "source": [
    "version =\"0.0.1\"\n",
    "ideas = []"
   ]
  },
  {
   "cell_type": "code",
   "execution_count": 3,
   "metadata": {},
   "outputs": [],
   "source": [
    "reconocimiento = sr.Recognizer()"
   ]
  },
  {
   "cell_type": "code",
   "execution_count": 4,
   "metadata": {},
   "outputs": [
    {
     "name": "stdout",
     "output_type": "stream",
     "text": [
      "result2:\n",
      "{   'alternative': [   {   'confidence': 0.89914447,\n",
      "                           'transcript': 'phone those Tres what sing says'},\n",
      "                       {'transcript': 'phone goes Tres what sing says'},\n",
      "                       {'transcript': 'phone those Tres what sing say'},\n",
      "                       {'transcript': 'phone those Tres what sing Safe'},\n",
      "                       {'transcript': 'phone those Tres Watson says'}],\n",
      "    'final': True}\n",
      "phone those Tres what sing says\n"
     ]
    }
   ],
   "source": [
    "archivo = sr.AudioFile('audios/record.wav')\n",
    "# Método record para capturar los datos del archivo de audio\n",
    "with archivo as source:\n",
    "    audio = reconocimiento.record(source)\n",
    "\n",
    "# Imprimir el texto del audio\n",
    "print(reconocimiento.recognize_google(audio))\n"
   ]
  },
  {
   "cell_type": "code",
   "execution_count": 5,
   "metadata": {},
   "outputs": [
    {
     "name": "stdout",
     "output_type": "stream",
     "text": [
      "result2:\n",
      "{   'alternative': [   {   'confidence': 0.68459195,\n",
      "                           'transcript': 'un dos tres cuatro cinco seis'},\n",
      "                       {'transcript': '1 2 3 4 5 6'}],\n",
      "    'final': True}\n",
      "un dos tres cuatro cinco seis\n"
     ]
    }
   ],
   "source": [
    "with archivo as source:\n",
    "  # evitar el efecto del ruido en el reconocimiento de voz\n",
    "  reconocimiento.adjust_for_ambient_noise(source)\n",
    "\n",
    "  audio = reconocimiento.record(source)\n",
    "  \n",
    "\n",
    "# Imprimir el texto del audio, con la interpretación del idioma\n",
    "print(reconocimiento.recognize_google(audio, language='es-EC'))\n"
   ]
  },
  {
   "cell_type": "code",
   "execution_count": 6,
   "metadata": {},
   "outputs": [
    {
     "name": "stdout",
     "output_type": "stream",
     "text": [
      "result2:\n",
      "{   'alternative': [   {   'confidence': 0.68459195,\n",
      "                           'transcript': 'un dos tres cuatro cinco seis'},\n",
      "                       {'transcript': '1 2 3 4 5 6'}],\n",
      "    'final': True}\n",
      "<class 'str'>\n",
      "['un', 'dos', 'tres', 'cuatro', 'cinco', 'seis']\n",
      "<class 'list'>\n"
     ]
    }
   ],
   "source": [
    "salida = reconocimiento.recognize_google(audio, language='es-EC')\n",
    "# averiguar la salida de que tipo es\n",
    "print(type(salida))\n",
    "# Agregar la salida anterior en una lista\n",
    "dividir = salida.split()\n",
    "print(dividir)\n",
    "print(type(dividir))\n"
   ]
  },
  {
   "cell_type": "code",
   "execution_count": 7,
   "metadata": {},
   "outputs": [
    {
     "name": "stdout",
     "output_type": "stream",
     "text": [
      "Lo siento mucho, no encontré nada.\n"
     ]
    }
   ],
   "source": [
    "coincidencias = ['artificial', 'inteligencia']\n",
    "# coincidencias =['arquitectura']\n",
    "if any(palabra in dividir for palabra in coincidencias):\n",
    "    print('Bienvenid@ a la materia de Inteligencia Artificial')\n",
    "else:\n",
    "    print('Lo siento mucho, no encontré nada.')\n"
   ]
  }
 ],
 "metadata": {
  "kernelspec": {
   "display_name": "Python 3",
   "language": "python",
   "name": "python3"
  },
  "language_info": {
   "codemirror_mode": {
    "name": "ipython",
    "version": 3
   },
   "file_extension": ".py",
   "mimetype": "text/x-python",
   "name": "python",
   "nbconvert_exporter": "python",
   "pygments_lexer": "ipython3",
   "version": "3.11.1"
  },
  "orig_nbformat": 4,
  "vscode": {
   "interpreter": {
    "hash": "5238573367df39f7286bb46f9ff5f08f63a01a80960060ce41e3c79b190280fa"
   }
  }
 },
 "nbformat": 4,
 "nbformat_minor": 2
}
