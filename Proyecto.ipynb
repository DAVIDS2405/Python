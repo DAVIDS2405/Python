{
 "cells": [
  {
   "cell_type": "code",
   "execution_count": 81,
   "metadata": {},
   "outputs": [],
   "source": [
    "import pickle\n",
    "import numpy as np\n",
    "import pandas as pd\n",
    "import matplotlib.pyplot as plt\n",
    "from sklearn.preprocessing import OneHotEncoder"
   ]
  },
  {
   "attachments": {},
   "cell_type": "markdown",
   "metadata": {},
   "source": [
    "# Extraccion y carga de datos"
   ]
  },
  {
   "cell_type": "code",
   "execution_count": 82,
   "metadata": {},
   "outputs": [],
   "source": [
    "def read_file(filename):\n",
    "    x = pickle._Unpickler(open(filename,'rb'))\n",
    "    x.encoding='latin1'\n",
    "    p = x.load()\n",
    "    return p"
   ]
  },
  {
   "cell_type": "code",
   "execution_count": 83,
   "metadata": {},
   "outputs": [
    {
     "name": "stdout",
     "output_type": "stream",
     "text": [
      "['05', '06', '07', '08']\n"
     ]
    }
   ],
   "source": [
    "files = []\n",
    "for n in range(5,9):\n",
    "    s = ''\n",
    "    if n < 10:\n",
    "        s+='0'\n",
    "    s+=str(n)\n",
    "    files.append(s)\n",
    "print(files)    "
   ]
  },
  {
   "cell_type": "code",
   "execution_count": 84,
   "metadata": {},
   "outputs": [],
   "source": [
    "labels = []\n",
    "data = []\n",
    "for i in files:\n",
    "    filename = \"Archivos/s\" + i + \".dat\"\n",
    "    trial = read_file(filename)\n",
    "    labels.append(trial['labels'])\n",
    "    data.append(trial['data'])\n",
    "    \n",
    "labels = np.array(labels)\n",
    "labels = labels.flatten()\n",
    "labels = labels.reshape(160, 4) #video/trial x label (valence, arousal, dominance, liking)\n",
    "\n",
    "\n",
    "data = np.array(data)\n",
    "data = data.flatten()\n",
    "data = data.reshape(160, 40, 8064)# video/trial x channel x data\n"
   ]
  },
  {
   "cell_type": "code",
   "execution_count": 85,
   "metadata": {},
   "outputs": [
    {
     "name": "stdout",
     "output_type": "stream",
     "text": [
      "Labels:  (160, 4)\n",
      "Data (160, 40, 8064)\n"
     ]
    }
   ],
   "source": [
    "print('Labels: ', labels.shape)\n",
    "print('Data', data.shape)"
   ]
  },
  {
   "attachments": {},
   "cell_type": "markdown",
   "metadata": {},
   "source": [
    "# One hot encoder para labels"
   ]
  },
  {
   "cell_type": "code",
   "execution_count": 86,
   "metadata": {},
   "outputs": [],
   "source": [
    "# Funtion to check if trial has positive or negative valence\n",
    "def valence(trial):\n",
    "    return 1 if labels[trial,0] >= np.median(labels[:,0]) else 0\n",
    "\n",
    "# Funtion to check if trial has high or low arousal\n",
    "\n",
    "def araousal(trial):\n",
    "    return 1 if labels[trial,1] >= np.median(labels[:,1]) else 0"
   ]
  },
  {
   "cell_type": "code",
   "execution_count": 87,
   "metadata": {},
   "outputs": [
    {
     "name": "stdout",
     "output_type": "stream",
     "text": [
      "         Valence     Arousal\n",
      "count  160.00000  160.000000\n",
      "mean     0.50000    0.506250\n",
      "std      0.50157    0.501531\n",
      "min      0.00000    0.000000\n",
      "25%      0.00000    0.000000\n",
      "50%      0.50000    1.000000\n",
      "75%      1.00000    1.000000\n",
      "max      1.00000    1.000000\n"
     ]
    }
   ],
   "source": [
    "labels_encoded = []\n",
    "for i in range (len(labels)):\n",
    "    labels_encoded.append([valence(i),araousal(i)])\n",
    "    \n",
    "labels_encoded = np.reshape(labels_encoded, (160,2))\n",
    "df_labels = pd.DataFrame(data =labels_encoded,columns=['Valence','Arousal'])\n",
    "print(df_labels.describe())"
   ]
  },
  {
   "cell_type": "code",
   "execution_count": 88,
   "metadata": {},
   "outputs": [
    {
     "data": {
      "text/plain": [
       "0      1\n",
       "1      1\n",
       "2      0\n",
       "3      1\n",
       "4      0\n",
       "      ..\n",
       "155    0\n",
       "156    0\n",
       "157    0\n",
       "158    0\n",
       "159    0\n",
       "Name: Valence, Length: 160, dtype: int32"
      ]
     },
     "execution_count": 88,
     "metadata": {},
     "output_type": "execute_result"
    }
   ],
   "source": [
    "df_valence = df_labels['Valence']\n",
    "df_valence"
   ]
  },
  {
   "cell_type": "code",
   "execution_count": 89,
   "metadata": {},
   "outputs": [],
   "source": [
    "df_arousal = df_labels['Arousal']\n"
   ]
  },
  {
   "attachments": {},
   "cell_type": "markdown",
   "metadata": {},
   "source": [
    "# array para los 32 canales "
   ]
  },
  {
   "cell_type": "code",
   "execution_count": 90,
   "metadata": {},
   "outputs": [
    {
     "name": "stdout",
     "output_type": "stream",
     "text": [
      "[1, 2, 3, 4, 5, 6, 7, 8, 9, 10, 11, 12, 13, 14, 15, 16, 17, 18, 19, 20, 21, 22, 23, 24, 25, 26, 27, 28, 29, 30, 31, 32]\n"
     ]
    }
   ],
   "source": [
    "eeg_channels = []\n",
    "for n in range(1, 33):\n",
    "    eeg_channels.append(n)\n",
    "print(eeg_channels)\n",
    "    \n"
   ]
  },
  {
   "cell_type": "code",
   "execution_count": 91,
   "metadata": {},
   "outputs": [
    {
     "name": "stdout",
     "output_type": "stream",
     "text": [
      "(160, 32, 8064)\n"
     ]
    }
   ],
   "source": [
    "egg_data = []\n",
    "for i in range (len(data)):\n",
    "    for j in range (len(eeg_channels)):\n",
    "        egg_data.append(data[i,j])\n",
    "egg_data = np.reshape(egg_data, (len(data),len(eeg_channels),len(data[0,0])))\n",
    "print(egg_data.shape)\n"
   ]
  },
  {
   "attachments": {},
   "cell_type": "markdown",
   "metadata": {},
   "source": [
    "# Realizando extraccion de caracteristicas"
   ]
  },
  {
   "cell_type": "code",
   "execution_count": 92,
   "metadata": {},
   "outputs": [
    {
     "data": {
      "text/html": [
       "<div>\n",
       "<style scoped>\n",
       "    .dataframe tbody tr th:only-of-type {\n",
       "        vertical-align: middle;\n",
       "    }\n",
       "\n",
       "    .dataframe tbody tr th {\n",
       "        vertical-align: top;\n",
       "    }\n",
       "\n",
       "    .dataframe thead th {\n",
       "        text-align: right;\n",
       "    }\n",
       "</style>\n",
       "<table border=\"1\" class=\"dataframe\">\n",
       "  <thead>\n",
       "    <tr style=\"text-align: right;\">\n",
       "      <th></th>\n",
       "      <th>0</th>\n",
       "      <th>1</th>\n",
       "      <th>2</th>\n",
       "      <th>3</th>\n",
       "      <th>4</th>\n",
       "      <th>5</th>\n",
       "      <th>6</th>\n",
       "      <th>7</th>\n",
       "      <th>8</th>\n",
       "      <th>9</th>\n",
       "      <th>...</th>\n",
       "      <th>86</th>\n",
       "      <th>87</th>\n",
       "      <th>88</th>\n",
       "      <th>89</th>\n",
       "      <th>90</th>\n",
       "      <th>91</th>\n",
       "      <th>92</th>\n",
       "      <th>93</th>\n",
       "      <th>94</th>\n",
       "      <th>95</th>\n",
       "    </tr>\n",
       "  </thead>\n",
       "  <tbody>\n",
       "    <tr>\n",
       "      <th>0</th>\n",
       "      <td>-0.124613</td>\n",
       "      <td>-0.213920</td>\n",
       "      <td>-0.108840</td>\n",
       "      <td>0.238012</td>\n",
       "      <td>-0.044924</td>\n",
       "      <td>-0.018392</td>\n",
       "      <td>-0.133522</td>\n",
       "      <td>0.491180</td>\n",
       "      <td>0.140811</td>\n",
       "      <td>-0.440095</td>\n",
       "      <td>...</td>\n",
       "      <td>-0.033168</td>\n",
       "      <td>-0.891401</td>\n",
       "      <td>-0.076324</td>\n",
       "      <td>0.213730</td>\n",
       "      <td>0.083256</td>\n",
       "      <td>-0.429163</td>\n",
       "      <td>0.106847</td>\n",
       "      <td>-0.125578</td>\n",
       "      <td>-0.047205</td>\n",
       "      <td>0.297791</td>\n",
       "    </tr>\n",
       "    <tr>\n",
       "      <th>1</th>\n",
       "      <td>-0.038647</td>\n",
       "      <td>-0.103394</td>\n",
       "      <td>-0.016777</td>\n",
       "      <td>0.098475</td>\n",
       "      <td>-0.048333</td>\n",
       "      <td>-0.016133</td>\n",
       "      <td>-0.067308</td>\n",
       "      <td>0.216928</td>\n",
       "      <td>0.094275</td>\n",
       "      <td>-0.213614</td>\n",
       "      <td>...</td>\n",
       "      <td>-0.059511</td>\n",
       "      <td>-0.939760</td>\n",
       "      <td>-0.042556</td>\n",
       "      <td>0.352929</td>\n",
       "      <td>0.226317</td>\n",
       "      <td>-0.324682</td>\n",
       "      <td>0.185749</td>\n",
       "      <td>0.028388</td>\n",
       "      <td>0.016532</td>\n",
       "      <td>0.408709</td>\n",
       "    </tr>\n",
       "    <tr>\n",
       "      <th>2</th>\n",
       "      <td>-0.101349</td>\n",
       "      <td>0.017155</td>\n",
       "      <td>-0.086764</td>\n",
       "      <td>0.190292</td>\n",
       "      <td>0.134925</td>\n",
       "      <td>0.204365</td>\n",
       "      <td>0.114452</td>\n",
       "      <td>0.283354</td>\n",
       "      <td>-0.037267</td>\n",
       "      <td>-0.045507</td>\n",
       "      <td>...</td>\n",
       "      <td>-0.123067</td>\n",
       "      <td>0.275576</td>\n",
       "      <td>0.067654</td>\n",
       "      <td>-0.075377</td>\n",
       "      <td>-0.091235</td>\n",
       "      <td>0.116436</td>\n",
       "      <td>-0.129738</td>\n",
       "      <td>-0.177661</td>\n",
       "      <td>-0.221460</td>\n",
       "      <td>-0.281146</td>\n",
       "    </tr>\n",
       "    <tr>\n",
       "      <th>3</th>\n",
       "      <td>0.204372</td>\n",
       "      <td>-0.127836</td>\n",
       "      <td>0.193915</td>\n",
       "      <td>-0.154159</td>\n",
       "      <td>-0.213724</td>\n",
       "      <td>-0.344462</td>\n",
       "      <td>-0.241752</td>\n",
       "      <td>-0.126305</td>\n",
       "      <td>0.261137</td>\n",
       "      <td>-0.225269</td>\n",
       "      <td>...</td>\n",
       "      <td>0.061754</td>\n",
       "      <td>-0.855222</td>\n",
       "      <td>-0.086867</td>\n",
       "      <td>0.431572</td>\n",
       "      <td>-0.149623</td>\n",
       "      <td>0.046950</td>\n",
       "      <td>0.389890</td>\n",
       "      <td>0.121562</td>\n",
       "      <td>0.175134</td>\n",
       "      <td>-0.033605</td>\n",
       "    </tr>\n",
       "    <tr>\n",
       "      <th>4</th>\n",
       "      <td>0.670014</td>\n",
       "      <td>0.697445</td>\n",
       "      <td>0.467880</td>\n",
       "      <td>-1.242901</td>\n",
       "      <td>-0.091543</td>\n",
       "      <td>-0.333689</td>\n",
       "      <td>0.327771</td>\n",
       "      <td>-2.299656</td>\n",
       "      <td>-0.379023</td>\n",
       "      <td>1.731752</td>\n",
       "      <td>...</td>\n",
       "      <td>0.134903</td>\n",
       "      <td>2.812627</td>\n",
       "      <td>0.469224</td>\n",
       "      <td>-0.598827</td>\n",
       "      <td>-1.023712</td>\n",
       "      <td>2.170608</td>\n",
       "      <td>-0.336869</td>\n",
       "      <td>0.145911</td>\n",
       "      <td>0.290126</td>\n",
       "      <td>-1.614567</td>\n",
       "    </tr>\n",
       "    <tr>\n",
       "      <th>...</th>\n",
       "      <td>...</td>\n",
       "      <td>...</td>\n",
       "      <td>...</td>\n",
       "      <td>...</td>\n",
       "      <td>...</td>\n",
       "      <td>...</td>\n",
       "      <td>...</td>\n",
       "      <td>...</td>\n",
       "      <td>...</td>\n",
       "      <td>...</td>\n",
       "      <td>...</td>\n",
       "      <td>...</td>\n",
       "      <td>...</td>\n",
       "      <td>...</td>\n",
       "      <td>...</td>\n",
       "      <td>...</td>\n",
       "      <td>...</td>\n",
       "      <td>...</td>\n",
       "      <td>...</td>\n",
       "      <td>...</td>\n",
       "      <td>...</td>\n",
       "    </tr>\n",
       "    <tr>\n",
       "      <th>155</th>\n",
       "      <td>-0.034560</td>\n",
       "      <td>-0.125993</td>\n",
       "      <td>-0.011701</td>\n",
       "      <td>0.089914</td>\n",
       "      <td>-0.020768</td>\n",
       "      <td>-0.104013</td>\n",
       "      <td>0.054367</td>\n",
       "      <td>-0.090257</td>\n",
       "      <td>-0.093217</td>\n",
       "      <td>0.044990</td>\n",
       "      <td>...</td>\n",
       "      <td>0.037330</td>\n",
       "      <td>0.004209</td>\n",
       "      <td>-0.142122</td>\n",
       "      <td>0.206289</td>\n",
       "      <td>-0.038145</td>\n",
       "      <td>0.013670</td>\n",
       "      <td>-0.015553</td>\n",
       "      <td>-0.296836</td>\n",
       "      <td>0.121054</td>\n",
       "      <td>0.233882</td>\n",
       "    </tr>\n",
       "    <tr>\n",
       "      <th>156</th>\n",
       "      <td>0.001392</td>\n",
       "      <td>-0.079255</td>\n",
       "      <td>-0.234174</td>\n",
       "      <td>-0.622337</td>\n",
       "      <td>0.112699</td>\n",
       "      <td>-0.147966</td>\n",
       "      <td>-0.360885</td>\n",
       "      <td>-0.620235</td>\n",
       "      <td>0.183689</td>\n",
       "      <td>-0.366755</td>\n",
       "      <td>...</td>\n",
       "      <td>-0.034174</td>\n",
       "      <td>0.130220</td>\n",
       "      <td>-0.009028</td>\n",
       "      <td>0.072097</td>\n",
       "      <td>0.260309</td>\n",
       "      <td>-0.152198</td>\n",
       "      <td>0.350030</td>\n",
       "      <td>0.547847</td>\n",
       "      <td>0.328656</td>\n",
       "      <td>0.188243</td>\n",
       "    </tr>\n",
       "    <tr>\n",
       "      <th>157</th>\n",
       "      <td>-0.009958</td>\n",
       "      <td>0.123989</td>\n",
       "      <td>0.114569</td>\n",
       "      <td>0.331677</td>\n",
       "      <td>0.029168</td>\n",
       "      <td>0.086859</td>\n",
       "      <td>0.146303</td>\n",
       "      <td>0.235718</td>\n",
       "      <td>-0.089044</td>\n",
       "      <td>0.132446</td>\n",
       "      <td>...</td>\n",
       "      <td>0.030623</td>\n",
       "      <td>-0.142049</td>\n",
       "      <td>-0.091385</td>\n",
       "      <td>0.090471</td>\n",
       "      <td>-0.134790</td>\n",
       "      <td>-0.033024</td>\n",
       "      <td>-0.105118</td>\n",
       "      <td>-0.345880</td>\n",
       "      <td>-0.083218</td>\n",
       "      <td>-0.083567</td>\n",
       "    </tr>\n",
       "    <tr>\n",
       "      <th>158</th>\n",
       "      <td>-0.153765</td>\n",
       "      <td>-0.439413</td>\n",
       "      <td>-0.360844</td>\n",
       "      <td>-0.596541</td>\n",
       "      <td>0.183947</td>\n",
       "      <td>-0.365720</td>\n",
       "      <td>-0.335553</td>\n",
       "      <td>-0.974069</td>\n",
       "      <td>0.083692</td>\n",
       "      <td>-0.283637</td>\n",
       "      <td>...</td>\n",
       "      <td>0.199438</td>\n",
       "      <td>0.538902</td>\n",
       "      <td>-0.319997</td>\n",
       "      <td>0.158450</td>\n",
       "      <td>-0.042942</td>\n",
       "      <td>-0.125502</td>\n",
       "      <td>0.480972</td>\n",
       "      <td>0.205598</td>\n",
       "      <td>0.680985</td>\n",
       "      <td>0.500240</td>\n",
       "    </tr>\n",
       "    <tr>\n",
       "      <th>159</th>\n",
       "      <td>-0.106044</td>\n",
       "      <td>0.015583</td>\n",
       "      <td>-0.016603</td>\n",
       "      <td>-0.156841</td>\n",
       "      <td>-0.049135</td>\n",
       "      <td>-0.017322</td>\n",
       "      <td>-0.150003</td>\n",
       "      <td>-0.016165</td>\n",
       "      <td>0.113891</td>\n",
       "      <td>-0.150564</td>\n",
       "      <td>...</td>\n",
       "      <td>-0.119858</td>\n",
       "      <td>-0.215546</td>\n",
       "      <td>0.249855</td>\n",
       "      <td>0.080958</td>\n",
       "      <td>0.344060</td>\n",
       "      <td>0.010925</td>\n",
       "      <td>0.196870</td>\n",
       "      <td>0.457584</td>\n",
       "      <td>0.076979</td>\n",
       "      <td>-0.091597</td>\n",
       "    </tr>\n",
       "  </tbody>\n",
       "</table>\n",
       "<p>160 rows × 96 columns</p>\n",
       "</div>"
      ],
      "text/plain": [
       "           0         1         2         3         4         5         6   \\\n",
       "0   -0.124613 -0.213920 -0.108840  0.238012 -0.044924 -0.018392 -0.133522   \n",
       "1   -0.038647 -0.103394 -0.016777  0.098475 -0.048333 -0.016133 -0.067308   \n",
       "2   -0.101349  0.017155 -0.086764  0.190292  0.134925  0.204365  0.114452   \n",
       "3    0.204372 -0.127836  0.193915 -0.154159 -0.213724 -0.344462 -0.241752   \n",
       "4    0.670014  0.697445  0.467880 -1.242901 -0.091543 -0.333689  0.327771   \n",
       "..        ...       ...       ...       ...       ...       ...       ...   \n",
       "155 -0.034560 -0.125993 -0.011701  0.089914 -0.020768 -0.104013  0.054367   \n",
       "156  0.001392 -0.079255 -0.234174 -0.622337  0.112699 -0.147966 -0.360885   \n",
       "157 -0.009958  0.123989  0.114569  0.331677  0.029168  0.086859  0.146303   \n",
       "158 -0.153765 -0.439413 -0.360844 -0.596541  0.183947 -0.365720 -0.335553   \n",
       "159 -0.106044  0.015583 -0.016603 -0.156841 -0.049135 -0.017322 -0.150003   \n",
       "\n",
       "           7         8         9   ...        86        87        88  \\\n",
       "0    0.491180  0.140811 -0.440095  ... -0.033168 -0.891401 -0.076324   \n",
       "1    0.216928  0.094275 -0.213614  ... -0.059511 -0.939760 -0.042556   \n",
       "2    0.283354 -0.037267 -0.045507  ... -0.123067  0.275576  0.067654   \n",
       "3   -0.126305  0.261137 -0.225269  ...  0.061754 -0.855222 -0.086867   \n",
       "4   -2.299656 -0.379023  1.731752  ...  0.134903  2.812627  0.469224   \n",
       "..        ...       ...       ...  ...       ...       ...       ...   \n",
       "155 -0.090257 -0.093217  0.044990  ...  0.037330  0.004209 -0.142122   \n",
       "156 -0.620235  0.183689 -0.366755  ... -0.034174  0.130220 -0.009028   \n",
       "157  0.235718 -0.089044  0.132446  ...  0.030623 -0.142049 -0.091385   \n",
       "158 -0.974069  0.083692 -0.283637  ...  0.199438  0.538902 -0.319997   \n",
       "159 -0.016165  0.113891 -0.150564  ... -0.119858 -0.215546  0.249855   \n",
       "\n",
       "           89        90        91        92        93        94        95  \n",
       "0    0.213730  0.083256 -0.429163  0.106847 -0.125578 -0.047205  0.297791  \n",
       "1    0.352929  0.226317 -0.324682  0.185749  0.028388  0.016532  0.408709  \n",
       "2   -0.075377 -0.091235  0.116436 -0.129738 -0.177661 -0.221460 -0.281146  \n",
       "3    0.431572 -0.149623  0.046950  0.389890  0.121562  0.175134 -0.033605  \n",
       "4   -0.598827 -1.023712  2.170608 -0.336869  0.145911  0.290126 -1.614567  \n",
       "..        ...       ...       ...       ...       ...       ...       ...  \n",
       "155  0.206289 -0.038145  0.013670 -0.015553 -0.296836  0.121054  0.233882  \n",
       "156  0.072097  0.260309 -0.152198  0.350030  0.547847  0.328656  0.188243  \n",
       "157  0.090471 -0.134790 -0.033024 -0.105118 -0.345880 -0.083218 -0.083567  \n",
       "158  0.158450 -0.042942 -0.125502  0.480972  0.205598  0.680985  0.500240  \n",
       "159  0.080958  0.344060  0.010925  0.196870  0.457584  0.076979 -0.091597  \n",
       "\n",
       "[160 rows x 96 columns]"
      ]
     },
     "execution_count": 92,
     "metadata": {},
     "output_type": "execute_result"
    }
   ],
   "source": [
    "mean_data = np.mean(egg_data, axis=2)\n",
    "var_data = np.var(egg_data, axis=2) \n",
    "median_data = np.median(egg_data, axis=2)\n",
    "feature_data = np.concatenate((mean_data, var_data, median_data), axis=1)\n",
    "feature_data = pd.DataFrame(feature_data)\n",
    "feature_data\n"
   ]
  },
  {
   "attachments": {},
   "cell_type": "markdown",
   "metadata": {},
   "source": [
    "# Unificando la data"
   ]
  },
  {
   "cell_type": "code",
   "execution_count": 93,
   "metadata": {},
   "outputs": [
    {
     "data": {
      "text/html": [
       "<div>\n",
       "<style scoped>\n",
       "    .dataframe tbody tr th:only-of-type {\n",
       "        vertical-align: middle;\n",
       "    }\n",
       "\n",
       "    .dataframe tbody tr th {\n",
       "        vertical-align: top;\n",
       "    }\n",
       "\n",
       "    .dataframe thead th {\n",
       "        text-align: right;\n",
       "    }\n",
       "</style>\n",
       "<table border=\"1\" class=\"dataframe\">\n",
       "  <thead>\n",
       "    <tr style=\"text-align: right;\">\n",
       "      <th></th>\n",
       "      <th>0</th>\n",
       "      <th>1</th>\n",
       "      <th>2</th>\n",
       "      <th>3</th>\n",
       "      <th>4</th>\n",
       "      <th>5</th>\n",
       "      <th>6</th>\n",
       "      <th>7</th>\n",
       "      <th>8</th>\n",
       "      <th>9</th>\n",
       "      <th>...</th>\n",
       "      <th>88</th>\n",
       "      <th>89</th>\n",
       "      <th>90</th>\n",
       "      <th>91</th>\n",
       "      <th>92</th>\n",
       "      <th>93</th>\n",
       "      <th>94</th>\n",
       "      <th>95</th>\n",
       "      <th>Valence</th>\n",
       "      <th>Arousal</th>\n",
       "    </tr>\n",
       "  </thead>\n",
       "  <tbody>\n",
       "    <tr>\n",
       "      <th>0</th>\n",
       "      <td>-0.124613</td>\n",
       "      <td>-0.213920</td>\n",
       "      <td>-0.108840</td>\n",
       "      <td>0.238012</td>\n",
       "      <td>-0.044924</td>\n",
       "      <td>-0.018392</td>\n",
       "      <td>-0.133522</td>\n",
       "      <td>0.491180</td>\n",
       "      <td>0.140811</td>\n",
       "      <td>-0.440095</td>\n",
       "      <td>...</td>\n",
       "      <td>-0.076324</td>\n",
       "      <td>0.213730</td>\n",
       "      <td>0.083256</td>\n",
       "      <td>-0.429163</td>\n",
       "      <td>0.106847</td>\n",
       "      <td>-0.125578</td>\n",
       "      <td>-0.047205</td>\n",
       "      <td>0.297791</td>\n",
       "      <td>1</td>\n",
       "      <td>0</td>\n",
       "    </tr>\n",
       "    <tr>\n",
       "      <th>1</th>\n",
       "      <td>-0.038647</td>\n",
       "      <td>-0.103394</td>\n",
       "      <td>-0.016777</td>\n",
       "      <td>0.098475</td>\n",
       "      <td>-0.048333</td>\n",
       "      <td>-0.016133</td>\n",
       "      <td>-0.067308</td>\n",
       "      <td>0.216928</td>\n",
       "      <td>0.094275</td>\n",
       "      <td>-0.213614</td>\n",
       "      <td>...</td>\n",
       "      <td>-0.042556</td>\n",
       "      <td>0.352929</td>\n",
       "      <td>0.226317</td>\n",
       "      <td>-0.324682</td>\n",
       "      <td>0.185749</td>\n",
       "      <td>0.028388</td>\n",
       "      <td>0.016532</td>\n",
       "      <td>0.408709</td>\n",
       "      <td>1</td>\n",
       "      <td>1</td>\n",
       "    </tr>\n",
       "    <tr>\n",
       "      <th>2</th>\n",
       "      <td>-0.101349</td>\n",
       "      <td>0.017155</td>\n",
       "      <td>-0.086764</td>\n",
       "      <td>0.190292</td>\n",
       "      <td>0.134925</td>\n",
       "      <td>0.204365</td>\n",
       "      <td>0.114452</td>\n",
       "      <td>0.283354</td>\n",
       "      <td>-0.037267</td>\n",
       "      <td>-0.045507</td>\n",
       "      <td>...</td>\n",
       "      <td>0.067654</td>\n",
       "      <td>-0.075377</td>\n",
       "      <td>-0.091235</td>\n",
       "      <td>0.116436</td>\n",
       "      <td>-0.129738</td>\n",
       "      <td>-0.177661</td>\n",
       "      <td>-0.221460</td>\n",
       "      <td>-0.281146</td>\n",
       "      <td>0</td>\n",
       "      <td>0</td>\n",
       "    </tr>\n",
       "    <tr>\n",
       "      <th>3</th>\n",
       "      <td>0.204372</td>\n",
       "      <td>-0.127836</td>\n",
       "      <td>0.193915</td>\n",
       "      <td>-0.154159</td>\n",
       "      <td>-0.213724</td>\n",
       "      <td>-0.344462</td>\n",
       "      <td>-0.241752</td>\n",
       "      <td>-0.126305</td>\n",
       "      <td>0.261137</td>\n",
       "      <td>-0.225269</td>\n",
       "      <td>...</td>\n",
       "      <td>-0.086867</td>\n",
       "      <td>0.431572</td>\n",
       "      <td>-0.149623</td>\n",
       "      <td>0.046950</td>\n",
       "      <td>0.389890</td>\n",
       "      <td>0.121562</td>\n",
       "      <td>0.175134</td>\n",
       "      <td>-0.033605</td>\n",
       "      <td>1</td>\n",
       "      <td>1</td>\n",
       "    </tr>\n",
       "    <tr>\n",
       "      <th>4</th>\n",
       "      <td>0.670014</td>\n",
       "      <td>0.697445</td>\n",
       "      <td>0.467880</td>\n",
       "      <td>-1.242901</td>\n",
       "      <td>-0.091543</td>\n",
       "      <td>-0.333689</td>\n",
       "      <td>0.327771</td>\n",
       "      <td>-2.299656</td>\n",
       "      <td>-0.379023</td>\n",
       "      <td>1.731752</td>\n",
       "      <td>...</td>\n",
       "      <td>0.469224</td>\n",
       "      <td>-0.598827</td>\n",
       "      <td>-1.023712</td>\n",
       "      <td>2.170608</td>\n",
       "      <td>-0.336869</td>\n",
       "      <td>0.145911</td>\n",
       "      <td>0.290126</td>\n",
       "      <td>-1.614567</td>\n",
       "      <td>0</td>\n",
       "      <td>0</td>\n",
       "    </tr>\n",
       "    <tr>\n",
       "      <th>...</th>\n",
       "      <td>...</td>\n",
       "      <td>...</td>\n",
       "      <td>...</td>\n",
       "      <td>...</td>\n",
       "      <td>...</td>\n",
       "      <td>...</td>\n",
       "      <td>...</td>\n",
       "      <td>...</td>\n",
       "      <td>...</td>\n",
       "      <td>...</td>\n",
       "      <td>...</td>\n",
       "      <td>...</td>\n",
       "      <td>...</td>\n",
       "      <td>...</td>\n",
       "      <td>...</td>\n",
       "      <td>...</td>\n",
       "      <td>...</td>\n",
       "      <td>...</td>\n",
       "      <td>...</td>\n",
       "      <td>...</td>\n",
       "      <td>...</td>\n",
       "    </tr>\n",
       "    <tr>\n",
       "      <th>155</th>\n",
       "      <td>-0.034560</td>\n",
       "      <td>-0.125993</td>\n",
       "      <td>-0.011701</td>\n",
       "      <td>0.089914</td>\n",
       "      <td>-0.020768</td>\n",
       "      <td>-0.104013</td>\n",
       "      <td>0.054367</td>\n",
       "      <td>-0.090257</td>\n",
       "      <td>-0.093217</td>\n",
       "      <td>0.044990</td>\n",
       "      <td>...</td>\n",
       "      <td>-0.142122</td>\n",
       "      <td>0.206289</td>\n",
       "      <td>-0.038145</td>\n",
       "      <td>0.013670</td>\n",
       "      <td>-0.015553</td>\n",
       "      <td>-0.296836</td>\n",
       "      <td>0.121054</td>\n",
       "      <td>0.233882</td>\n",
       "      <td>0</td>\n",
       "      <td>1</td>\n",
       "    </tr>\n",
       "    <tr>\n",
       "      <th>156</th>\n",
       "      <td>0.001392</td>\n",
       "      <td>-0.079255</td>\n",
       "      <td>-0.234174</td>\n",
       "      <td>-0.622337</td>\n",
       "      <td>0.112699</td>\n",
       "      <td>-0.147966</td>\n",
       "      <td>-0.360885</td>\n",
       "      <td>-0.620235</td>\n",
       "      <td>0.183689</td>\n",
       "      <td>-0.366755</td>\n",
       "      <td>...</td>\n",
       "      <td>-0.009028</td>\n",
       "      <td>0.072097</td>\n",
       "      <td>0.260309</td>\n",
       "      <td>-0.152198</td>\n",
       "      <td>0.350030</td>\n",
       "      <td>0.547847</td>\n",
       "      <td>0.328656</td>\n",
       "      <td>0.188243</td>\n",
       "      <td>0</td>\n",
       "      <td>0</td>\n",
       "    </tr>\n",
       "    <tr>\n",
       "      <th>157</th>\n",
       "      <td>-0.009958</td>\n",
       "      <td>0.123989</td>\n",
       "      <td>0.114569</td>\n",
       "      <td>0.331677</td>\n",
       "      <td>0.029168</td>\n",
       "      <td>0.086859</td>\n",
       "      <td>0.146303</td>\n",
       "      <td>0.235718</td>\n",
       "      <td>-0.089044</td>\n",
       "      <td>0.132446</td>\n",
       "      <td>...</td>\n",
       "      <td>-0.091385</td>\n",
       "      <td>0.090471</td>\n",
       "      <td>-0.134790</td>\n",
       "      <td>-0.033024</td>\n",
       "      <td>-0.105118</td>\n",
       "      <td>-0.345880</td>\n",
       "      <td>-0.083218</td>\n",
       "      <td>-0.083567</td>\n",
       "      <td>0</td>\n",
       "      <td>0</td>\n",
       "    </tr>\n",
       "    <tr>\n",
       "      <th>158</th>\n",
       "      <td>-0.153765</td>\n",
       "      <td>-0.439413</td>\n",
       "      <td>-0.360844</td>\n",
       "      <td>-0.596541</td>\n",
       "      <td>0.183947</td>\n",
       "      <td>-0.365720</td>\n",
       "      <td>-0.335553</td>\n",
       "      <td>-0.974069</td>\n",
       "      <td>0.083692</td>\n",
       "      <td>-0.283637</td>\n",
       "      <td>...</td>\n",
       "      <td>-0.319997</td>\n",
       "      <td>0.158450</td>\n",
       "      <td>-0.042942</td>\n",
       "      <td>-0.125502</td>\n",
       "      <td>0.480972</td>\n",
       "      <td>0.205598</td>\n",
       "      <td>0.680985</td>\n",
       "      <td>0.500240</td>\n",
       "      <td>0</td>\n",
       "      <td>0</td>\n",
       "    </tr>\n",
       "    <tr>\n",
       "      <th>159</th>\n",
       "      <td>-0.106044</td>\n",
       "      <td>0.015583</td>\n",
       "      <td>-0.016603</td>\n",
       "      <td>-0.156841</td>\n",
       "      <td>-0.049135</td>\n",
       "      <td>-0.017322</td>\n",
       "      <td>-0.150003</td>\n",
       "      <td>-0.016165</td>\n",
       "      <td>0.113891</td>\n",
       "      <td>-0.150564</td>\n",
       "      <td>...</td>\n",
       "      <td>0.249855</td>\n",
       "      <td>0.080958</td>\n",
       "      <td>0.344060</td>\n",
       "      <td>0.010925</td>\n",
       "      <td>0.196870</td>\n",
       "      <td>0.457584</td>\n",
       "      <td>0.076979</td>\n",
       "      <td>-0.091597</td>\n",
       "      <td>0</td>\n",
       "      <td>0</td>\n",
       "    </tr>\n",
       "  </tbody>\n",
       "</table>\n",
       "<p>160 rows × 98 columns</p>\n",
       "</div>"
      ],
      "text/plain": [
       "            0         1         2         3         4         5         6  \\\n",
       "0   -0.124613 -0.213920 -0.108840  0.238012 -0.044924 -0.018392 -0.133522   \n",
       "1   -0.038647 -0.103394 -0.016777  0.098475 -0.048333 -0.016133 -0.067308   \n",
       "2   -0.101349  0.017155 -0.086764  0.190292  0.134925  0.204365  0.114452   \n",
       "3    0.204372 -0.127836  0.193915 -0.154159 -0.213724 -0.344462 -0.241752   \n",
       "4    0.670014  0.697445  0.467880 -1.242901 -0.091543 -0.333689  0.327771   \n",
       "..        ...       ...       ...       ...       ...       ...       ...   \n",
       "155 -0.034560 -0.125993 -0.011701  0.089914 -0.020768 -0.104013  0.054367   \n",
       "156  0.001392 -0.079255 -0.234174 -0.622337  0.112699 -0.147966 -0.360885   \n",
       "157 -0.009958  0.123989  0.114569  0.331677  0.029168  0.086859  0.146303   \n",
       "158 -0.153765 -0.439413 -0.360844 -0.596541  0.183947 -0.365720 -0.335553   \n",
       "159 -0.106044  0.015583 -0.016603 -0.156841 -0.049135 -0.017322 -0.150003   \n",
       "\n",
       "            7         8         9  ...        88        89        90  \\\n",
       "0    0.491180  0.140811 -0.440095  ... -0.076324  0.213730  0.083256   \n",
       "1    0.216928  0.094275 -0.213614  ... -0.042556  0.352929  0.226317   \n",
       "2    0.283354 -0.037267 -0.045507  ...  0.067654 -0.075377 -0.091235   \n",
       "3   -0.126305  0.261137 -0.225269  ... -0.086867  0.431572 -0.149623   \n",
       "4   -2.299656 -0.379023  1.731752  ...  0.469224 -0.598827 -1.023712   \n",
       "..        ...       ...       ...  ...       ...       ...       ...   \n",
       "155 -0.090257 -0.093217  0.044990  ... -0.142122  0.206289 -0.038145   \n",
       "156 -0.620235  0.183689 -0.366755  ... -0.009028  0.072097  0.260309   \n",
       "157  0.235718 -0.089044  0.132446  ... -0.091385  0.090471 -0.134790   \n",
       "158 -0.974069  0.083692 -0.283637  ... -0.319997  0.158450 -0.042942   \n",
       "159 -0.016165  0.113891 -0.150564  ...  0.249855  0.080958  0.344060   \n",
       "\n",
       "           91        92        93        94        95  Valence  Arousal  \n",
       "0   -0.429163  0.106847 -0.125578 -0.047205  0.297791        1        0  \n",
       "1   -0.324682  0.185749  0.028388  0.016532  0.408709        1        1  \n",
       "2    0.116436 -0.129738 -0.177661 -0.221460 -0.281146        0        0  \n",
       "3    0.046950  0.389890  0.121562  0.175134 -0.033605        1        1  \n",
       "4    2.170608 -0.336869  0.145911  0.290126 -1.614567        0        0  \n",
       "..        ...       ...       ...       ...       ...      ...      ...  \n",
       "155  0.013670 -0.015553 -0.296836  0.121054  0.233882        0        1  \n",
       "156 -0.152198  0.350030  0.547847  0.328656  0.188243        0        0  \n",
       "157 -0.033024 -0.105118 -0.345880 -0.083218 -0.083567        0        0  \n",
       "158 -0.125502  0.480972  0.205598  0.680985  0.500240        0        0  \n",
       "159  0.010925  0.196870  0.457584  0.076979 -0.091597        0        0  \n",
       "\n",
       "[160 rows x 98 columns]"
      ]
     },
     "execution_count": 93,
     "metadata": {},
     "output_type": "execute_result"
    }
   ],
   "source": [
    "unified_data_valence = pd.concat([feature_data, df_valence,df_arousal],axis=1)\n",
    "unified_data_valence"
   ]
  },
  {
   "cell_type": "code",
   "execution_count": null,
   "metadata": {},
   "outputs": [],
   "source": []
  },
  {
   "attachments": {},
   "cell_type": "markdown",
   "metadata": {},
   "source": [
    "# Revision de balance en los datos"
   ]
  },
  {
   "cell_type": "code",
   "execution_count": 94,
   "metadata": {},
   "outputs": [
    {
     "name": "stdout",
     "output_type": "stream",
     "text": [
      "1    80\n",
      "0    80\n",
      "Name: Valence, dtype: int64\n",
      "1    81\n",
      "0    79\n",
      "Name: Arousal, dtype: int64\n"
     ]
    }
   ],
   "source": [
    "print(unified_data_valence['Valence'].value_counts())\n",
    "print(unified_data_valence['Arousal'].value_counts())\n"
   ]
  },
  {
   "attachments": {},
   "cell_type": "markdown",
   "metadata": {},
   "source": [
    "# Corroborando si los datos estan correctamente unidos"
   ]
  },
  {
   "cell_type": "code",
   "execution_count": 95,
   "metadata": {},
   "outputs": [
    {
     "name": "stdout",
     "output_type": "stream",
     "text": [
      "feature_data shape: (160, 96)\n",
      "df_valence shape: (160,)\n",
      "df_arousal shape: (160,)\n",
      "unified_data_valence shape: (160, 98)\n"
     ]
    }
   ],
   "source": [
    "print('feature_data shape:', feature_data.shape)\n",
    "print('df_valence shape:', df_valence.shape)\n",
    "print('df_arousal shape:', df_arousal.shape)\n",
    "print('unified_data_valence shape:', unified_data_valence.shape)\n"
   ]
  },
  {
   "attachments": {},
   "cell_type": "markdown",
   "metadata": {},
   "source": [
    "# Arboles de decision sin normalizar"
   ]
  },
  {
   "attachments": {},
   "cell_type": "markdown",
   "metadata": {},
   "source": [
    "## Valence"
   ]
  },
  {
   "cell_type": "code",
   "execution_count": 114,
   "metadata": {},
   "outputs": [],
   "source": [
    "from sklearn.model_selection import train_test_split\n",
    "\n",
    "X = unified_data_valence.drop(['Valence', 'Arousal'], axis=1) # características\n",
    "y = unified_data_valence[['Valence']]  # etiquetas\n",
    "X_train, X_test, y_train, y_test = train_test_split(X, y, test_size=0.3)"
   ]
  },
  {
   "cell_type": "code",
   "execution_count": 115,
   "metadata": {},
   "outputs": [
    {
     "data": {
      "text/html": [
       "<div>\n",
       "<style scoped>\n",
       "    .dataframe tbody tr th:only-of-type {\n",
       "        vertical-align: middle;\n",
       "    }\n",
       "\n",
       "    .dataframe tbody tr th {\n",
       "        vertical-align: top;\n",
       "    }\n",
       "\n",
       "    .dataframe thead th {\n",
       "        text-align: right;\n",
       "    }\n",
       "</style>\n",
       "<table border=\"1\" class=\"dataframe\">\n",
       "  <thead>\n",
       "    <tr style=\"text-align: right;\">\n",
       "      <th></th>\n",
       "      <th>Valence</th>\n",
       "    </tr>\n",
       "  </thead>\n",
       "  <tbody>\n",
       "    <tr>\n",
       "      <th>0</th>\n",
       "      <td>1</td>\n",
       "    </tr>\n",
       "    <tr>\n",
       "      <th>1</th>\n",
       "      <td>1</td>\n",
       "    </tr>\n",
       "    <tr>\n",
       "      <th>2</th>\n",
       "      <td>0</td>\n",
       "    </tr>\n",
       "    <tr>\n",
       "      <th>3</th>\n",
       "      <td>1</td>\n",
       "    </tr>\n",
       "    <tr>\n",
       "      <th>4</th>\n",
       "      <td>0</td>\n",
       "    </tr>\n",
       "    <tr>\n",
       "      <th>...</th>\n",
       "      <td>...</td>\n",
       "    </tr>\n",
       "    <tr>\n",
       "      <th>155</th>\n",
       "      <td>0</td>\n",
       "    </tr>\n",
       "    <tr>\n",
       "      <th>156</th>\n",
       "      <td>0</td>\n",
       "    </tr>\n",
       "    <tr>\n",
       "      <th>157</th>\n",
       "      <td>0</td>\n",
       "    </tr>\n",
       "    <tr>\n",
       "      <th>158</th>\n",
       "      <td>0</td>\n",
       "    </tr>\n",
       "    <tr>\n",
       "      <th>159</th>\n",
       "      <td>0</td>\n",
       "    </tr>\n",
       "  </tbody>\n",
       "</table>\n",
       "<p>160 rows × 1 columns</p>\n",
       "</div>"
      ],
      "text/plain": [
       "     Valence\n",
       "0          1\n",
       "1          1\n",
       "2          0\n",
       "3          1\n",
       "4          0\n",
       "..       ...\n",
       "155        0\n",
       "156        0\n",
       "157        0\n",
       "158        0\n",
       "159        0\n",
       "\n",
       "[160 rows x 1 columns]"
      ]
     },
     "execution_count": 115,
     "metadata": {},
     "output_type": "execute_result"
    }
   ],
   "source": [
    "y"
   ]
  },
  {
   "cell_type": "code",
   "execution_count": 116,
   "metadata": {},
   "outputs": [
    {
     "name": "stdout",
     "output_type": "stream",
     "text": [
      "Precisión del modelo de árbol de decisión: 0.4791666666666667\n"
     ]
    }
   ],
   "source": [
    "from sklearn.tree import DecisionTreeClassifier\n",
    "from sklearn.metrics import accuracy_score\n",
    "\n",
    "# crear modelo de árbol de decisión\n",
    "dtc = DecisionTreeClassifier()\n",
    "\n",
    "# ajustar modelo a los datos de entrenamiento\n",
    "dtc.fit(X_train, y_train)\n",
    "\n",
    "# hacer predicciones sobre los datos de prueba\n",
    "y_pred = dtc.predict(X_test)\n",
    "\n",
    "# calcular la precisión del modelo\n",
    "accuracy = accuracy_score(y_test, y_pred)\n",
    "print(\"Precisión del modelo de árbol de decisión:\", accuracy)\n"
   ]
  },
  {
   "attachments": {},
   "cell_type": "markdown",
   "metadata": {},
   "source": [
    "## Arousal"
   ]
  },
  {
   "cell_type": "code",
   "execution_count": 98,
   "metadata": {},
   "outputs": [],
   "source": [
    "\n",
    "X2 = unified_data_valence.drop(['Valence', 'Arousal'], axis=1) # características\n",
    "y2 = unified_data_valence[['Arousal']]  # etiquetas\n",
    "X_train, X_test, y_train, y_test = train_test_split(X, y, test_size=0.3, random_state=42)"
   ]
  },
  {
   "cell_type": "code",
   "execution_count": 99,
   "metadata": {},
   "outputs": [
    {
     "name": "stdout",
     "output_type": "stream",
     "text": [
      "Precisión del modelo de árbol de decisión: 0.1875\n"
     ]
    }
   ],
   "source": [
    "# crear modelo de árbol de decisión\n",
    "dtc = DecisionTreeClassifier(random_state=42)\n",
    "\n",
    "# ajustar modelo a los datos de entrenamiento\n",
    "dtc.fit(X_train, y_train)\n",
    "\n",
    "# hacer predicciones sobre los datos de prueba\n",
    "y_pred = dtc.predict(X_test)\n",
    "\n",
    "# calcular la precisión del modelo\n",
    "accuracy = accuracy_score(y_test, y_pred)\n",
    "print(\"Precisión del modelo de árbol de decisión:\", accuracy)\n"
   ]
  },
  {
   "attachments": {},
   "cell_type": "markdown",
   "metadata": {},
   "source": [
    "## Normalizacion de datos"
   ]
  },
  {
   "cell_type": "code",
   "execution_count": 100,
   "metadata": {},
   "outputs": [],
   "source": [
    "from sklearn.preprocessing import StandardScaler\n",
    "# crea un objeto StandardScaler\n",
    "scaler = StandardScaler()\n",
    "# escala los datos\n",
    "scaled_data = scaler.fit_transform(unified_data_valence.drop(['Valence', 'Arousal'], axis=1))"
   ]
  },
  {
   "cell_type": "code",
   "execution_count": 101,
   "metadata": {},
   "outputs": [],
   "source": [
    "#Se crea un DataFrame con los datos escalados y las etiquetas Valence y Arousal\n",
    "scaled_data_df = pd.DataFrame(scaled_data, columns=unified_data_valence.drop(['Valence', 'Arousal'], axis=1).columns)\n",
    "scaled_data_df['Valence'] = unified_data_valence['Valence']\n",
    "scaled_data_df['Arousal'] = unified_data_valence['Arousal']"
   ]
  },
  {
   "attachments": {},
   "cell_type": "markdown",
   "metadata": {},
   "source": [
    "## Valence"
   ]
  },
  {
   "cell_type": "code",
   "execution_count": 102,
   "metadata": {},
   "outputs": [
    {
     "name": "stdout",
     "output_type": "stream",
     "text": [
      "Precisión del árbol de decisión: 54.17%\n"
     ]
    }
   ],
   "source": [
    "# dividir los datos en conjunto de entrenamiento y prueba (70% para entrenamiento, 30% para prueba)\n",
    "X_train, X_test, y_train, y_test = train_test_split(unified_data_valence.iloc[:, :-2], unified_data_valence['Valence'], test_size=0.3)\n",
    "\n",
    "# crear una instancia del clasificador de árbol de decisión\n",
    "tree = DecisionTreeClassifier()\n",
    "\n",
    "# ajustar el modelo a los datos de entrenamiento\n",
    "tree.fit(X_train, y_train)\n",
    "\n",
    "# predecir las etiquetas de los datos de prueba\n",
    "y_pred = tree.predict(X_test)\n",
    "\n",
    "\n",
    "# evaluar la precisión del modelo\n",
    "accuracy = accuracy_score(y_test, y_pred)\n",
    "print(\"Precisión del árbol de decisión: {:.2f}%\".format(accuracy*100))\n"
   ]
  },
  {
   "attachments": {},
   "cell_type": "markdown",
   "metadata": {},
   "source": [
    "## Arousal"
   ]
  },
  {
   "cell_type": "code",
   "execution_count": 103,
   "metadata": {},
   "outputs": [
    {
     "name": "stdout",
     "output_type": "stream",
     "text": [
      "Precisión del árbol de decisión: 39.58%\n"
     ]
    }
   ],
   "source": [
    "# dividir los datos en conjunto de entrenamiento y prueba (70% para entrenamiento, 30% para prueba)\n",
    "X_train, X_test, y_train, y_test = train_test_split(unified_data_valence.iloc[:, :-2], unified_data_valence['Arousal'], test_size=0.3)\n",
    "\n",
    "# crear una instancia del clasificador de árbol de decisión\n",
    "tree = DecisionTreeClassifier()\n",
    "\n",
    "# ajustar el modelo a los datos de entrenamiento\n",
    "tree.fit(X_train, y_train)\n",
    "\n",
    "# predecir las etiquetas de los datos de prueba\n",
    "y_pred = tree.predict(X_test)\n",
    "\n",
    "\n",
    "# evaluar la precisión del modelo\n",
    "accuracy = accuracy_score(y_test, y_pred)\n",
    "print(\"Precisión del árbol de decisión: {:.2f}%\".format(accuracy*100))\n"
   ]
  },
  {
   "attachments": {},
   "cell_type": "markdown",
   "metadata": {},
   "source": [
    "# Ramdon ForestClassifier"
   ]
  },
  {
   "attachments": {},
   "cell_type": "markdown",
   "metadata": {},
   "source": [
    "## Sin normalizar"
   ]
  },
  {
   "attachments": {},
   "cell_type": "markdown",
   "metadata": {},
   "source": [
    "## Valence"
   ]
  },
  {
   "cell_type": "code",
   "execution_count": 104,
   "metadata": {},
   "outputs": [],
   "source": [
    "from sklearn.model_selection import train_test_split\n",
    "\n",
    "# Separar en características y etiquetas\n",
    "X = unified_data_valence.drop(['Valence', 'Arousal'], axis=1) # características\n",
    "y = unified_data_valence[['Valence']]  # etiquetas\n",
    "\n",
    "# Dividir los datos en conjuntos de entrenamiento y prueba\n",
    "X_train, X_test, y_train, y_test = train_test_split(X, y, test_size=0.3, random_state=42)"
   ]
  },
  {
   "cell_type": "code",
   "execution_count": 105,
   "metadata": {},
   "outputs": [
    {
     "name": "stdout",
     "output_type": "stream",
     "text": [
      "El puntaje promedio de precisión es: 0.47\n"
     ]
    }
   ],
   "source": [
    "from sklearn.ensemble import RandomForestClassifier\n",
    "from sklearn.model_selection import KFold\n",
    "from sklearn.metrics import accuracy_score\n",
    "\n",
    "# Definir el objeto KFold\n",
    "kf = KFold(n_splits=5, shuffle=True, random_state=42)\n",
    "\n",
    "# Crear el modelo de Random Forest\n",
    "rfc = RandomForestClassifier(n_estimators=100, random_state=42)\n",
    "\n",
    "# Iniciar el bucle de validación cruzada\n",
    "scores = []\n",
    "for train_index, test_index in kf.split(X_train):\n",
    "    # Seleccionar los conjuntos de entrenamiento y prueba para esta iteración\n",
    "    X_train_kf, X_test_kf = X_train.iloc[train_index], X_train.iloc[test_index]\n",
    "    y_train_kf, y_test_kf = y_train.iloc[train_index], y_train.iloc[test_index]\n",
    "    \n",
    "    # Convertir y_train_kf a una matriz unidimensional\n",
    "    y_train_kf = y_train_kf.values.ravel()\n",
    "\n",
    "    # Entrenar el modelo de Random Forest en el conjunto de entrenamiento actual\n",
    "    rfc.fit(X_train_kf, y_train_kf)\n",
    "\n",
    "    # Predecir las etiquetas en el conjunto de prueba actual\n",
    "    y_pred_kf = rfc.predict(X_test_kf)\n",
    "\n",
    "    # Calcular el puntaje de precisión y agregarlo a la lista de puntajes\n",
    "    score = accuracy_score(y_test_kf, y_pred_kf)\n",
    "    scores.append(score)\n",
    "\n",
    "# Calcular el puntaje promedio de precisión y mostrarlo\n",
    "mean_score = sum(scores) / len(scores)\n",
    "print(f'El puntaje promedio de precisión es: {mean_score:.2f}')\n"
   ]
  },
  {
   "attachments": {},
   "cell_type": "markdown",
   "metadata": {},
   "source": [
    "## Normalizando"
   ]
  },
  {
   "cell_type": "code",
   "execution_count": 106,
   "metadata": {},
   "outputs": [
    {
     "name": "stdout",
     "output_type": "stream",
     "text": [
      "El puntaje promedio de precisión es: 0.51\n"
     ]
    }
   ],
   "source": [
    "from sklearn.preprocessing import StandardScaler\n",
    "from sklearn.ensemble import RandomForestClassifier\n",
    "from sklearn.model_selection import KFold\n",
    "from sklearn.metrics import accuracy_score\n",
    "\n",
    "# Separar en características y etiquetas\n",
    "X = unified_data_valence.drop(\n",
    "    ['Valence', 'Arousal'], axis=1)  # características\n",
    "y = unified_data_valence[['Valence']]  # etiquetas\n",
    "\n",
    "# Normalizar los datos\n",
    "scaler = StandardScaler()\n",
    "X = scaler.fit_transform(X)\n",
    "\n",
    "# Definir el objeto KFold\n",
    "kf = KFold(n_splits=5, shuffle=True, random_state=42)\n",
    "\n",
    "# Crear el modelo de Random Forest\n",
    "rfc = RandomForestClassifier(n_estimators=100, random_state=42)\n",
    "\n",
    "# Iniciar el bucle de validación cruzada\n",
    "scores = []\n",
    "for train_index, test_index in kf.split(X):\n",
    "    # Seleccionar los conjuntos de entrenamiento y prueba para esta iteración\n",
    "    X_train_kf, X_test_kf = X[train_index], X[test_index]\n",
    "    y_train_kf, y_test_kf = y.iloc[train_index], y.iloc[test_index]\n",
    "    \n",
    "    # Entrenar el modelo de Random Forest en el conjunto de entrenamiento actual\n",
    "    rfc.fit(X_train_kf, y_train_kf.values.ravel())\n",
    "\n",
    "    # Predecir las etiquetas en el conjunto de prueba actual\n",
    "    y_pred_kf = rfc.predict(X_test_kf)\n",
    "\n",
    "    # Calcular el puntaje de precisión y agregarlo a la lista de puntajes\n",
    "    score = accuracy_score(y_test_kf, y_pred_kf)\n",
    "    scores.append(score)\n",
    "\n",
    "# Calcular el puntaje promedio de precisión y mostrarlo\n",
    "mean_score = sum(scores) / len(scores)\n",
    "print(f'El puntaje promedio de precisión es: {mean_score:.2f}')\n"
   ]
  },
  {
   "attachments": {},
   "cell_type": "markdown",
   "metadata": {},
   "source": [
    "## Arousal"
   ]
  },
  {
   "cell_type": "code",
   "execution_count": 107,
   "metadata": {},
   "outputs": [],
   "source": [
    "from sklearn.model_selection import train_test_split\n",
    "\n",
    "# Separar en características y etiquetas\n",
    "X = unified_data_valence.drop(['Valence', 'Arousal'], axis=1) # características\n",
    "y = unified_data_valence[['Arousal']]  # etiquetas\n",
    "\n",
    "# Dividir los datos en conjuntos de entrenamiento y prueba\n",
    "X_train, X_test, y_train, y_test = train_test_split(X, y, test_size=0.3, random_state=42)"
   ]
  },
  {
   "cell_type": "code",
   "execution_count": 108,
   "metadata": {},
   "outputs": [
    {
     "name": "stdout",
     "output_type": "stream",
     "text": [
      "El puntaje promedio de precisión es: 0.49\n"
     ]
    }
   ],
   "source": [
    "from sklearn.ensemble import RandomForestClassifier\n",
    "from sklearn.model_selection import KFold\n",
    "from sklearn.metrics import accuracy_score\n",
    "\n",
    "# Definir el objeto KFold\n",
    "kf = KFold(n_splits=5, shuffle=True, random_state=42)\n",
    "\n",
    "# Crear el modelo de Random Forest\n",
    "rfc = RandomForestClassifier(n_estimators=100, random_state=42)\n",
    "\n",
    "# Iniciar el bucle de validación cruzada\n",
    "scores = []\n",
    "for train_index, test_index in kf.split(X_train):\n",
    "    # Seleccionar los conjuntos de entrenamiento y prueba para esta iteración\n",
    "    X_train_kf, X_test_kf = X_train.iloc[train_index], X_train.iloc[test_index]\n",
    "    y_train_kf, y_test_kf = y_train.iloc[train_index], y_train.iloc[test_index]\n",
    "    \n",
    "    # Convertir y_train_kf a una matriz unidimensional\n",
    "    y_train_kf = y_train_kf.values.ravel()\n",
    "\n",
    "    # Entrenar el modelo de Random Forest en el conjunto de entrenamiento actual\n",
    "    rfc.fit(X_train_kf, y_train_kf)\n",
    "\n",
    "    # Predecir las etiquetas en el conjunto de prueba actual\n",
    "    y_pred_kf = rfc.predict(X_test_kf)\n",
    "\n",
    "    # Calcular el puntaje de precisión y agregarlo a la lista de puntajes\n",
    "    score = accuracy_score(y_test_kf, y_pred_kf)\n",
    "    scores.append(score)\n",
    "\n",
    "# Calcular el puntaje promedio de precisión y mostrarlo\n",
    "mean_score = sum(scores) / len(scores)\n",
    "print(f'El puntaje promedio de precisión es: {mean_score:.2f}')\n"
   ]
  },
  {
   "attachments": {},
   "cell_type": "markdown",
   "metadata": {},
   "source": [
    "## Normalizado"
   ]
  },
  {
   "cell_type": "code",
   "execution_count": 109,
   "metadata": {},
   "outputs": [
    {
     "name": "stdout",
     "output_type": "stream",
     "text": [
      "El puntaje promedio de precisión es: 0.42\n"
     ]
    }
   ],
   "source": [
    "from sklearn.preprocessing import StandardScaler\n",
    "from sklearn.ensemble import RandomForestClassifier\n",
    "from sklearn.model_selection import KFold\n",
    "from sklearn.metrics import accuracy_score\n",
    "\n",
    "# Separar en características y etiquetas\n",
    "X = unified_data_valence.drop(\n",
    "    ['Valence', 'Arousal'], axis=1)  # características\n",
    "y = unified_data_valence[['Arousal']]  # etiquetas\n",
    "\n",
    "# Normalizar los datos\n",
    "scaler = StandardScaler()\n",
    "X = scaler.fit_transform(X)\n",
    "\n",
    "# Definir el objeto KFold\n",
    "kf = KFold(n_splits=5, shuffle=True, random_state=42)\n",
    "\n",
    "# Crear el modelo de Random Forest\n",
    "rfc = RandomForestClassifier(n_estimators=100, random_state=42)\n",
    "\n",
    "# Iniciar el bucle de validación cruzada\n",
    "scores = []\n",
    "for train_index, test_index in kf.split(X):\n",
    "    # Seleccionar los conjuntos de entrenamiento y prueba para esta iteración\n",
    "    X_train_kf, X_test_kf = X[train_index], X[test_index]\n",
    "    y_train_kf, y_test_kf = y.iloc[train_index], y.iloc[test_index]\n",
    "\n",
    "    # Entrenar el modelo de Random Forest en el conjunto de entrenamiento actual\n",
    "    rfc.fit(X_train_kf, y_train_kf.values.ravel())\n",
    "\n",
    "    # Predecir las etiquetas en el conjunto de prueba actual\n",
    "    y_pred_kf = rfc.predict(X_test_kf)\n",
    "\n",
    "    # Calcular el puntaje de precisión y agregarlo a la lista de puntajes\n",
    "    score = accuracy_score(y_test_kf, y_pred_kf)\n",
    "    scores.append(score)\n",
    "\n",
    "# Calcular el puntaje promedio de precisión y mostrarlo\n",
    "mean_score = sum(scores) / len(scores)\n",
    "print(f'El puntaje promedio de precisión es: {mean_score:.2f}')\n"
   ]
  },
  {
   "attachments": {},
   "cell_type": "markdown",
   "metadata": {},
   "source": [
    "# SVM"
   ]
  },
  {
   "attachments": {},
   "cell_type": "markdown",
   "metadata": {},
   "source": [
    "## Kernel lineal (Linear kernel) sin normalizar"
   ]
  },
  {
   "attachments": {},
   "cell_type": "markdown",
   "metadata": {},
   "source": [
    "### Kernel lineal (Linear kernel) normalizado"
   ]
  }
 ],
 "metadata": {
  "kernelspec": {
   "display_name": "Python 3",
   "language": "python",
   "name": "python3"
  },
  "language_info": {
   "codemirror_mode": {
    "name": "ipython",
    "version": 3
   },
   "file_extension": ".py",
   "mimetype": "text/x-python",
   "name": "python",
   "nbconvert_exporter": "python",
   "pygments_lexer": "ipython3",
   "version": "3.11.1"
  },
  "orig_nbformat": 4,
  "vscode": {
   "interpreter": {
    "hash": "5238573367df39f7286bb46f9ff5f08f63a01a80960060ce41e3c79b190280fa"
   }
  }
 },
 "nbformat": 4,
 "nbformat_minor": 2
}
