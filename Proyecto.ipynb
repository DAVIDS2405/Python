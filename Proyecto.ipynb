{
 "cells": [
  {
   "cell_type": "code",
   "execution_count": 17,
   "metadata": {},
   "outputs": [],
   "source": [
    "import pickle\n",
    "import numpy as np\n",
    "from sklearn.preprocessing import OneHotEncoder, LabelEncoder"
   ]
  },
  {
   "cell_type": "code",
   "execution_count": 18,
   "metadata": {},
   "outputs": [],
   "source": [
    "def read_file(filename):\n",
    "    x = pickle._Unpickler(open(filename,'rb'))\n",
    "    x.encoding='latin1'\n",
    "    p = x.load()\n",
    "    return p"
   ]
  },
  {
   "cell_type": "code",
   "execution_count": 19,
   "metadata": {},
   "outputs": [
    {
     "name": "stdout",
     "output_type": "stream",
     "text": [
      "['05', '06', '07', '08']\n"
     ]
    }
   ],
   "source": [
    "files = []\n",
    "for n in range(5,9):\n",
    "    s = ''\n",
    "    if n < 10:\n",
    "        s+='0'\n",
    "    s+=str(n)\n",
    "    files.append(s)\n",
    "print(files)    "
   ]
  },
  {
   "cell_type": "code",
   "execution_count": 20,
   "metadata": {},
   "outputs": [],
   "source": [
    "labels = []\n",
    "data = []\n",
    "for i in files:\n",
    "    filename = \"Archivos/s\" + i + \".dat\"\n",
    "    trial = read_file(filename)\n",
    "    labels.append(trial['labels'])\n",
    "    data.append(trial['data'])\n",
    "    \n",
    "labels = np.array(labels)\n",
    "labels = labels.flatten()\n",
    "labels = labels.reshape(160, 4) #video/trial x label (valence, arousal, dominance, liking)\n",
    "\n",
    "\n",
    "data = np.array(data)\n",
    "data = data.flatten()\n",
    "data = data.reshape(160, 40, 8064)# video/trial x channel x data\n"
   ]
  },
  {
   "cell_type": "code",
   "execution_count": 21,
   "metadata": {},
   "outputs": [
    {
     "name": "stdout",
     "output_type": "stream",
     "text": [
      "Labels:  (160, 4)\n",
      "Data (160, 40, 8064)\n"
     ]
    }
   ],
   "source": [
    "print('Labels: ', labels.shape)\n",
    "print('Data', data.shape)"
   ]
  },
  {
   "cell_type": "code",
   "execution_count": 22,
   "metadata": {},
   "outputs": [],
   "source": [
    "enc = OneHotEncoder(handle_unknown='ignore')\n",
    "etiquetas= labels\n",
    "etiquetas_ohn=enc.fit(etiquetas)"
   ]
  },
  {
   "cell_type": "code",
   "execution_count": 23,
   "metadata": {},
   "outputs": [],
   "source": [
    "etiquetas_ohn=enc.transform(etiquetas).toarray()"
   ]
  },
  {
   "cell_type": "code",
   "execution_count": 24,
   "metadata": {},
   "outputs": [
    {
     "data": {
      "text/plain": [
       "[array([1.  , 1.21, 1.4 , 1.45, 1.91, 1.94, 1.97, 2.  , 2.05, 2.78, 2.94,\n",
       "        2.99, 3.01, 3.03, 3.04, 3.05, 3.09, 3.12, 3.13, 3.31, 3.47, 3.5 ,\n",
       "        3.59, 3.62, 3.65, 3.72, 3.9 , 3.96, 4.  , 4.01, 4.04, 4.15, 4.21,\n",
       "        4.23, 4.27, 4.41, 4.44, 4.46, 4.68, 4.72, 4.83, 4.85, 4.86, 4.91,\n",
       "        4.94, 4.95, 4.96, 4.97, 4.99, 5.01, 5.03, 5.04, 5.05, 5.06, 5.08,\n",
       "        5.12, 5.17, 5.59, 5.71, 5.96, 6.03, 6.09, 6.28, 6.32, 6.33, 6.42,\n",
       "        6.56, 6.67, 6.68, 6.72, 6.74, 6.82, 6.83, 6.88, 6.9 , 6.94, 6.96,\n",
       "        6.97, 6.99, 7.  , 7.01, 7.03, 7.05, 7.08, 7.09, 7.1 , 7.12, 7.15,\n",
       "        7.17, 7.21, 7.37, 7.4 , 7.41, 7.55, 7.56, 7.59, 7.6 , 7.69, 7.79,\n",
       "        7.87, 7.9 , 7.96, 7.99, 8.  , 8.03, 8.05, 8.06, 8.09, 8.1 , 8.15,\n",
       "        8.17, 8.19, 8.24, 8.26, 8.33, 8.41, 8.47, 8.78, 8.82, 9.  ]),\n",
       " array([1.99, 2.  , 2.03, 2.05, 2.5 , 2.69, 2.87, 2.88, 2.94, 2.96, 2.99,\n",
       "        3.  , 3.01, 3.03, 3.04, 3.05, 3.06, 3.12, 3.13, 3.19, 3.31, 3.37,\n",
       "        3.46, 3.47, 3.49, 3.54, 3.6 , 3.62, 3.63, 3.68, 3.79, 3.9 , 3.91,\n",
       "        3.95, 3.97, 4.  , 4.01, 4.03, 4.04, 4.05, 4.08, 4.12, 4.13, 4.21,\n",
       "        4.37, 4.45, 4.5 , 4.56, 4.59, 4.64, 4.69, 4.77, 4.86, 4.87, 4.88,\n",
       "        4.9 , 4.95, 4.96, 4.97, 4.99, 5.  , 5.03, 5.04, 5.06, 5.08, 5.09,\n",
       "        5.13, 5.45, 5.46, 5.58, 5.6 , 5.71, 5.74, 5.79, 5.81, 5.91, 5.96,\n",
       "        5.99, 6.  , 6.04, 6.05, 6.06, 6.08, 6.21, 6.28, 6.4 , 6.41, 6.42,\n",
       "        6.44, 6.5 , 6.51, 6.54, 6.6 , 6.62, 6.67, 6.78, 6.79, 6.83, 6.96,\n",
       "        6.97, 6.99, 7.01, 7.03, 7.04, 7.05, 7.06, 7.08, 7.09, 7.1 , 7.13,\n",
       "        7.24, 7.26, 7.38, 7.45, 7.72, 7.94, 7.95, 8.05, 8.1 , 8.23, 8.27,\n",
       "        9.  ]),\n",
       " array([1.  , 1.19, 1.21, 1.45, 1.91, 1.92, 1.94, 1.96, 1.99, 2.  , 2.05,\n",
       "        2.06, 2.46, 2.86, 2.88, 2.95, 2.97, 2.99, 3.  , 3.01, 3.03, 3.06,\n",
       "        3.12, 3.13, 3.21, 3.35, 3.41, 3.42, 3.44, 3.45, 3.49, 3.5 , 3.59,\n",
       "        3.62, 3.67, 3.68, 3.71, 3.74, 3.83, 3.9 , 3.95, 3.96, 3.99, 4.  ,\n",
       "        4.01, 4.04, 4.05, 4.12, 4.56, 4.94, 4.95, 4.97, 5.  , 5.03, 5.04,\n",
       "        5.08, 5.12, 5.17, 5.44, 5.62, 5.65, 5.92, 5.94, 6.01, 6.03, 6.04,\n",
       "        6.06, 6.1 , 6.13, 6.14, 6.22, 6.23, 6.27, 6.31, 6.35, 6.44, 6.55,\n",
       "        6.56, 6.59, 6.65, 6.67, 6.74, 6.87, 6.94, 6.99, 7.  , 7.03, 7.04,\n",
       "        7.05, 7.06, 7.08, 7.12, 7.28, 7.31, 7.33, 7.38, 7.4 , 7.53, 7.56,\n",
       "        7.58, 7.78, 7.86, 7.95, 7.96, 7.97, 8.  , 8.01, 8.03, 8.05, 8.06,\n",
       "        8.09, 8.1 , 8.17, 8.23, 8.4 , 8.49, 9.  ]),\n",
       " array([1.  , 1.04, 1.94, 1.96, 2.  , 2.18, 2.36, 2.79, 2.88, 2.92, 2.96,\n",
       "        2.97, 2.99, 3.03, 3.08, 3.27, 3.71, 3.77, 3.81, 3.88, 3.97, 3.99,\n",
       "        4.03, 4.04, 4.05, 4.12, 4.22, 4.55, 4.95, 4.96, 5.03, 5.04, 5.05,\n",
       "        5.38, 5.51, 5.65, 5.81, 5.9 , 5.92, 5.96, 5.99, 6.  , 6.03, 6.04,\n",
       "        6.09, 6.13, 6.15, 6.21, 6.24, 6.27, 6.32, 6.36, 6.37, 6.49, 6.6 ,\n",
       "        6.63, 6.64, 6.67, 6.69, 6.83, 6.91, 6.92, 6.94, 6.95, 6.96, 6.99,\n",
       "        7.  , 7.01, 7.03, 7.04, 7.05, 7.06, 7.08, 7.09, 7.1 , 7.12, 7.14,\n",
       "        7.15, 7.23, 7.31, 7.33, 7.36, 7.38, 7.4 , 7.44, 7.46, 7.47, 7.54,\n",
       "        7.71, 7.79, 7.86, 7.95, 7.96, 7.97, 7.99, 8.  , 8.03, 8.04, 8.05,\n",
       "        8.06, 8.1 , 8.12, 8.19, 8.22, 8.28, 8.53, 8.68, 8.83, 8.97, 9.  ])]"
      ]
     },
     "execution_count": 24,
     "metadata": {},
     "output_type": "execute_result"
    }
   ],
   "source": [
    "enc.categories_"
   ]
  },
  {
   "cell_type": "code",
   "execution_count": 25,
   "metadata": {},
   "outputs": [
    {
     "name": "stdout",
     "output_type": "stream",
     "text": [
      "[1, 2, 3, 4, 5, 6, 7, 8, 9, 10, 11, 12, 13, 14, 15, 16, 17, 18, 19, 20, 21, 22, 23, 24, 25, 26, 27, 28, 29, 30, 31, 32]\n"
     ]
    }
   ],
   "source": [
    "eeg_channels = []\n",
    "for n in range(1, 33):\n",
    "    eeg_channels.append(n)\n",
    "print(eeg_channels)\n",
    "    \n"
   ]
  },
  {
   "cell_type": "code",
   "execution_count": 26,
   "metadata": {},
   "outputs": [
    {
     "name": "stdout",
     "output_type": "stream",
     "text": [
      "(160, 32, 8064)\n"
     ]
    }
   ],
   "source": [
    "egg_data = []\n",
    "for i in range (len(data)):\n",
    "    for j in range (len(eeg_channels)):\n",
    "        egg_data.append(data[i,j])\n",
    "egg_data = np.reshape(egg_data, (len(data),len(eeg_channels),len(data[0,0])))\n",
    "print(egg_data.shape)\n"
   ]
  },
  {
   "cell_type": "code",
   "execution_count": 27,
   "metadata": {},
   "outputs": [
    {
     "ename": "ValueError",
     "evalue": "all the input arrays must have same number of dimensions, but the array at index 0 has 2 dimension(s) and the array at index 1 has 3 dimension(s)",
     "output_type": "error",
     "traceback": [
      "\u001b[1;31m---------------------------------------------------------------------------\u001b[0m",
      "\u001b[1;31mValueError\u001b[0m                                Traceback (most recent call last)",
      "Cell \u001b[1;32mIn[27], line 1\u001b[0m\n\u001b[1;32m----> 1\u001b[0m union \u001b[39m=\u001b[39m np\u001b[39m.\u001b[39;49mconcatenate((etiquetas_ohn,egg_data),axis \u001b[39m=\u001b[39;49m \u001b[39m0\u001b[39;49m)\n\u001b[0;32m      2\u001b[0m union\n",
      "File \u001b[1;32m<__array_function__ internals>:180\u001b[0m, in \u001b[0;36mconcatenate\u001b[1;34m(*args, **kwargs)\u001b[0m\n",
      "\u001b[1;31mValueError\u001b[0m: all the input arrays must have same number of dimensions, but the array at index 0 has 2 dimension(s) and the array at index 1 has 3 dimension(s)"
     ]
    }
   ],
   "source": [
    "union = np.concatenate((etiquetas_ohn,egg_data),axis = 0)\n",
    "union"
   ]
  }
 ],
 "metadata": {
  "kernelspec": {
   "display_name": "Python 3",
   "language": "python",
   "name": "python3"
  },
  "language_info": {
   "codemirror_mode": {
    "name": "ipython",
    "version": 3
   },
   "file_extension": ".py",
   "mimetype": "text/x-python",
   "name": "python",
   "nbconvert_exporter": "python",
   "pygments_lexer": "ipython3",
   "version": "3.11.1"
  },
  "orig_nbformat": 4,
  "vscode": {
   "interpreter": {
    "hash": "5238573367df39f7286bb46f9ff5f08f63a01a80960060ce41e3c79b190280fa"
   }
  }
 },
 "nbformat": 4,
 "nbformat_minor": 2
}
